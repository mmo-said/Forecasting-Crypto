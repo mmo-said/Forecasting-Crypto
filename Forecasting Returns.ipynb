Forecasting Returns: 
The fundamental task is to predict how prices will behave in the near future. Using time-series of hisorical prices as training data. 
